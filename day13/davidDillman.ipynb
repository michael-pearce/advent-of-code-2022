{
 "cells": [
  {
   "cell_type": "code",
   "execution_count": 2,
   "metadata": {},
   "outputs": [
    {
     "name": "stdout",
     "output_type": "stream",
     "text": [
      "Ex1:  6656\n",
      "Ex2:  19716\n"
     ]
    }
   ],
   "source": [
    "import math\n",
    "from functools import cmp_to_key \n",
    "\n",
    "def ordered(l: list, r: list) -> int:\n",
    "    \n",
    "    for left, right in zip(l, r):\n",
    "        \n",
    "        if isinstance(left, int) and isinstance(right, int):\n",
    "            if left > right:\n",
    "                return -1\n",
    "            if left < right:\n",
    "                return 1\n",
    "    \n",
    "        elif isinstance(left, int) and isinstance(right, list):\n",
    "            left = [left]\n",
    "        \n",
    "        elif isinstance(right, int) and isinstance(left, list):\n",
    "            right = [right]\n",
    "            \n",
    "        if isinstance(left, list) and isinstance(right, list):\n",
    "            if ordered(left, right) in {-1, 1}:\n",
    "                return ordered(left, right)\n",
    "    \n",
    "    if len(l) < len(r):\n",
    "        return 1\n",
    "    \n",
    "    if len(l) > len(r):\n",
    "        return -1       \n",
    "\n",
    "packets = [eval(packet) for packet in open(\"input.txt\") if len(packet) != 1]\n",
    "dividers = [[[2]], [[6]]]\n",
    "extended_packets = packets + dividers\n",
    "cnt = 0\n",
    "for i in range(0, len(packets), 2):\n",
    "    if ordered(packets[i], packets[i+1]) == 1:\n",
    "        cnt += 1 + i//2\n",
    "extended_sorted = sorted(extended_packets, key=cmp_to_key(ordered), reverse=True)\n",
    "divider_locations = [ix + 1 for ix, item in enumerate(extended_sorted) if item in dividers]\n",
    "print(\"Ex1: \", cnt)\n",
    "print(\"Ex2: \", math.prod(divider_locations))"
   ]
  }
 ],
 "metadata": {
  "kernelspec": {
   "display_name": "py-custom-requests",
   "language": "python",
   "name": "python3"
  },
  "language_info": {
   "codemirror_mode": {
    "name": "ipython",
    "version": 3
   },
   "file_extension": ".py",
   "mimetype": "text/x-python",
   "name": "python",
   "nbconvert_exporter": "python",
   "pygments_lexer": "ipython3",
   "version": "3.10.8 | packaged by conda-forge | (main, Nov  4 2022, 13:42:51) [MSC v.1916 64 bit (AMD64)]"
  },
  "orig_nbformat": 4,
  "vscode": {
   "interpreter": {
    "hash": "b515159ccd22aec8789554a3d5d5a77c7e12f582ec27efd3dbbf77e9f50e1d84"
   }
  }
 },
 "nbformat": 4,
 "nbformat_minor": 2
}
