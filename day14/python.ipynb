{
 "cells": [
  {
   "cell_type": "code",
   "execution_count": 8,
   "metadata": {},
   "outputs": [
    {
     "name": "stdout",
     "output_type": "stream",
     "text": [
      "Part 1 answer: 828\n",
      "Part 2 answer: 25500\n"
     ]
    }
   ],
   "source": [
    "def draw_cave(lines, source, add_floor=False):\n",
    "    x_max = max([xy[0] for ln in lines for xy in ln])\n",
    "    y_max = max([xy[1] for ln in lines for xy in ln])\n",
    "    if add_floor:\n",
    "        lines += [[(0, y_max + 2), (x_max, y_max + 2)]]\n",
    "    cave = [\n",
    "        [\".\" for _ in range(x_max + 1)]\n",
    "        for _ in range(y_max + 3)\n",
    "    ]\n",
    "    x_source, y_source = source\n",
    "    cave[y_source][x_source] = \"+\"\n",
    "    for ln in lines:\n",
    "        for i, xy in enumerate(ln[:-1]):\n",
    "            x1, y1 = xy\n",
    "            x2, y2 = ln[i + 1]\n",
    "            x_start = min([x1, x2])\n",
    "            y_start = min([y1, y2])\n",
    "            x_end = max([x1, x2])\n",
    "            y_end = max([y1, y2])\n",
    "            for x in range(x_start, x_end + 1):\n",
    "                for y in range(y_start, y_end + 1):\n",
    "                    cave[y][x] = \"#\"\n",
    "    return cave\n",
    "\n",
    "def pour_sand(cave, source):\n",
    "    x_source, y_source = source\n",
    "    x_sand = x_source\n",
    "    y_sand = y_source + 1\n",
    "    grain_count = 0\n",
    "    break_point = len(cave) - 2\n",
    "    while (y_sand < break_point) & (x_sand < len(cave[0]) - 1):\n",
    "        if cave[y_sand][x_sand] == \".\":\n",
    "            y_sand += 1\n",
    "        elif cave[y_sand][x_sand - 1] == \".\":\n",
    "            x_sand = x_sand - 1\n",
    "        elif cave[y_sand][x_sand + 1] == \".\":\n",
    "            x_sand = x_sand + 1\n",
    "        else:\n",
    "            cave[y_sand - 1][x_sand] = \"o\"\n",
    "            x_sand = x_source\n",
    "            y_sand = y_source + 1\n",
    "            grain_count += 1\n",
    "    \n",
    "    return grain_count\n",
    "\n",
    "def pour_sand2(cave, source):\n",
    "    x_source, y_source = source\n",
    "    cave[y_source][x_source] = \".\"\n",
    "    x_sand = x_source\n",
    "    y_sand = y_source\n",
    "    grain_count = 0\n",
    "    while cave[y_source][x_source] != \"o\":\n",
    "        if cave[y_sand][x_sand] == \".\":\n",
    "            y_sand += 1\n",
    "        elif cave[y_sand][x_sand - 1] == \".\":\n",
    "            x_sand = x_sand - 1\n",
    "        elif cave[y_sand][x_sand + 1] == \".\":\n",
    "            x_sand = x_sand + 1\n",
    "            if x_sand == (len(cave[0]) - 1):\n",
    "                cave = [r + [\".\"] for r in cave]\n",
    "                cave[-1][-1] = \"#\"\n",
    "        else:\n",
    "            cave[y_sand - 1][x_sand] = \"o\"\n",
    "            x_sand = x_source\n",
    "            y_sand = y_source\n",
    "            grain_count += 1\n",
    "    return grain_count\n",
    "\n",
    "if __name__ == \"__main__\":\n",
    "    with open(\"../day14/input.txt\", \"r\") as f:\n",
    "        lines = [\n",
    "            [\n",
    "                (int(point.split(\",\")[0]), int(point.split(\",\")[1]))\n",
    "                for point in ln.split(\" -> \")\n",
    "            ]\n",
    "            for ln in f.read().split(\"\\n\")\n",
    "        ]\n",
    "    \n",
    "    cave = draw_cave(lines, (500, 0))\n",
    "    part1 = pour_sand(cave, (500, 0))\n",
    "    print(f\"Part 1 answer: {part1}\")\n",
    "    cave = draw_cave(lines, (500, 0), True)\n",
    "    part2 = pour_sand2(cave, (500, 0))\n",
    "    print(f\"Part 2 answer: {part2}\")"
   ]
  }
 ],
 "metadata": {
  "kernelspec": {
   "display_name": "py-custom-requests",
   "language": "python",
   "name": "python3"
  },
  "language_info": {
   "codemirror_mode": {
    "name": "ipython",
    "version": 3
   },
   "file_extension": ".py",
   "mimetype": "text/x-python",
   "name": "python",
   "nbconvert_exporter": "python",
   "pygments_lexer": "ipython3",
   "version": "3.10.8"
  },
  "orig_nbformat": 4,
  "vscode": {
   "interpreter": {
    "hash": "b515159ccd22aec8789554a3d5d5a77c7e12f582ec27efd3dbbf77e9f50e1d84"
   }
  }
 },
 "nbformat": 4,
 "nbformat_minor": 2
}
